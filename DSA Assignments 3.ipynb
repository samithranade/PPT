{
 "cells": [
  {
   "cell_type": "markdown",
   "id": "45a03e30",
   "metadata": {},
   "source": [
    "Question 1\n",
    "Given an integer array nums of length n and an integer target, find three integers\n",
    "in nums such that the sum is closest to the target.\n",
    "Return the sum of the three integers.\n",
    "\n",
    "You may assume that each input would have exactly one solution.\n",
    "\n",
    "Example 1:\n",
    "Input: nums = [-1,2,1,-4], target = 1\n",
    "Output: 2\n",
    "\n",
    "Explanation: The sum that is closest to the target is 2. (-1 + 2 + 1 = 2)."
   ]
  },
  {
   "cell_type": "code",
   "execution_count": 57,
   "id": "ee9ba647",
   "metadata": {},
   "outputs": [],
   "source": [
    "def closestSum(num, t):\n",
    "    num.sort()\n",
    "    closest = 0\n",
    "    sum_cur = 0\n",
    "    for i in range(len(num)-2):\n",
    "        lhs = i+1\n",
    "        rhs = len(num)-1\n",
    "        while lhs < rhs and len(num)>=3:\n",
    "            sum_cur = num[i]+num[lhs]+num[rhs]\n",
    "            if sum_cur < t:\n",
    "                lhs = lhs + 1\n",
    "            else:\n",
    "                rhs = rhs - 1\n",
    "            if abs(closest - t) > abs(sum_cur - t):\n",
    "                closest = sum_cur\n",
    "    return closest\n",
    "            "
   ]
  },
  {
   "cell_type": "code",
   "execution_count": 59,
   "id": "a338b4d9",
   "metadata": {},
   "outputs": [
    {
     "data": {
      "text/plain": [
       "2"
      ]
     },
     "execution_count": 59,
     "metadata": {},
     "output_type": "execute_result"
    }
   ],
   "source": [
    "closestSum([-1,2,1,-4],13)"
   ]
  },
  {
   "cell_type": "markdown",
   "id": "2e23e095",
   "metadata": {},
   "source": [
    "Question 2\n",
    "Given an array nums of n integers, return an array of all the unique quadruplets\n",
    "[nums[a], nums[b], nums[c], nums[d]] such that:\n",
    "           ● 0 <= a, b, c, d < n\n",
    "           ● a, b, c, and d are distinct.\n",
    "           ● nums[a] + nums[b] + nums[c] + nums[d] == target\n",
    "\n",
    "You may return the answer in any order.\n",
    "\n",
    "Example 1:\n",
    "Input: nums = [1,0,-1,0,-2,2], target = 0\n",
    "Output: [[-2,-1,1,2],[-2,0,0,2],[-1,0,0,1]]"
   ]
  },
  {
   "cell_type": "code",
   "execution_count": 99,
   "id": "f45b9f14",
   "metadata": {},
   "outputs": [],
   "source": [
    "def quadruplet(n, t):\n",
    "    n.sort()\n",
    "    quadruplets = []\n",
    "    \n",
    "   # if n is None and n < 4:\n",
    "    #    return quadruplets\n",
    "    \n",
    "    for i in range(0,len(n)-3):\n",
    "        if i > 0 and n[i]==n[i-1]:\n",
    "            continue\n",
    "        \n",
    "        for j in range(i+1, len(n)-2):\n",
    "            if j != i+1 and n[j]==n[j-1]:\n",
    "                continue\n",
    "            \n",
    "            lhs = j + 1\n",
    "            rhs = len(n) - 1\n",
    "            \n",
    "            while lhs<rhs:\n",
    "                sum_cur = n[i]+ n[j]+n[lhs]+n[rhs]\n",
    "                if sum_cur < t:\n",
    "                    lhs += 1\n",
    "                elif sum_cur > t:\n",
    "                    rhs -= 1\n",
    "                else:\n",
    "                    quadruplets.append([n[i], n[j],n[lhs],n[rhs]])\n",
    "                    lhs += 1\n",
    "                    rhs -= 1\n",
    "                    while lhs<rhs and num[lhs] == num[lhs-1]:\n",
    "                        lhs += 1\n",
    "                    while rhs > lhs and num[rhs] == num[rhs -1]:\n",
    "                        rhs -= 1\n",
    "    return quadruplets"
   ]
  },
  {
   "cell_type": "code",
   "execution_count": 100,
   "id": "d551ce8c",
   "metadata": {},
   "outputs": [
    {
     "data": {
      "text/plain": [
       "[[-2, -1, 1, 2], [-2, 0, 0, 2], [-1, 0, 0, 1]]"
      ]
     },
     "execution_count": 100,
     "metadata": {},
     "output_type": "execute_result"
    }
   ],
   "source": [
    "quadruplet([1,0,-1,0,-2,2], 0)"
   ]
  },
  {
   "cell_type": "markdown",
   "id": "e6f199e1",
   "metadata": {},
   "source": [
    "Question 3\n",
    "A permutation of an array of integers is an arrangement of its members into a\n",
    "sequence or linear order.\n",
    "\n",
    "For example, for arr = [1,2,3], the following are all the permutations of arr:\n",
    "[1,2,3], [1,3,2], [2, 1, 3], [2, 3, 1], [3,1,2], [3,2,1].\n",
    "\n",
    "The next permutation of an array of integers is the next lexicographically greater\n",
    "permutation of its integer. More formally, if all the permutations of the array are\n",
    "sorted in one container according to their lexicographical order, then the next\n",
    "permutation of that array is the permutation that follows it in the sorted container.\n",
    "\n",
    "If such an arrangement is not possible, the array must be rearranged as the\n",
    "lowest possible order (i.e., sorted in ascending order).\n",
    "\n",
    "● For example, the next permutation of arr = [1,2,3] is [1,3,2].\n",
    "● Similarly, the next permutation of arr = [2,3,1] is [3,1,2].\n",
    "● While the next permutation of arr = [3,2,1] is [1,2,3] because [3,2,1] does not\n",
    "have a lexicographical larger rearrangement.\n",
    "\n",
    "Given an array of integers nums, find the next permutation of nums.\n",
    "The replacement must be in place and use only constant extra memory.\n",
    "\n",
    "**Example 1:**\n",
    "Input: nums = [1,2,3]\n",
    "Output: [1,3,2]"
   ]
  },
  {
   "cell_type": "code",
   "execution_count": 176,
   "id": "11f7efde",
   "metadata": {},
   "outputs": [],
   "source": [
    "def reverse1(nums, l, h):\n",
    "    while l < h:\n",
    "        nums[l], nums[h] = nums[h], nums[l]\n",
    "\n",
    "        l += 1\n",
    "        h -= 1"
   ]
  },
  {
   "cell_type": "code",
   "execution_count": 193,
   "id": "86876c11",
   "metadata": {},
   "outputs": [
    {
     "data": {
      "text/plain": [
       "[1, 2, 3]"
      ]
     },
     "execution_count": 193,
     "metadata": {},
     "output_type": "execute_result"
    }
   ],
   "source": [
    "def next_permutation(n):\n",
    "    index = 0\n",
    "\n",
    "    if n == sorted(n, reverse=True):\n",
    "        return (sorted(n))\n",
    "    \n",
    "    #if n == n.sort(reverse = True)\n",
    "    for i in range(len(n)-1,0,-1):\n",
    "        if n[i] > n[i-1]:\n",
    "            index = i-1\n",
    "            #print(index)\n",
    "            break\n",
    "            \n",
    "    for j in range(len(n)-1,0,-1):\n",
    "        if n[j]>n[index]:\n",
    "            #print(j)\n",
    "            break \n",
    "\n",
    "    n[index], n[j] = n[j], n[index]\n",
    "    \n",
    "    def reverse(nums, l, h):\n",
    "        while l < h:\n",
    "            nums[l], nums[h] = nums[h], nums[l]\n",
    "\n",
    "            l += 1\n",
    "            h -= 1\n",
    "        \n",
    "    reverse(n, index+1, len(n)-1)\n",
    "     \n",
    "    return n\n",
    "\n",
    "#Input: nums = [1,2,3], [4,5,3,2,1]\n",
    "#Output: [1,3,2]\n",
    "next_permutation([3,2,1])\n",
    "    "
   ]
  },
  {
   "cell_type": "code",
   "execution_count": 173,
   "id": "e9653168",
   "metadata": {},
   "outputs": [
    {
     "data": {
      "text/plain": [
       "[1, 2, 3, 4, 5]"
      ]
     },
     "execution_count": 173,
     "metadata": {},
     "output_type": "execute_result"
    }
   ],
   "source": [
    "n = [5,4,3,2,1]\n",
    "n.sort()#(reverse = True)\n",
    "n"
   ]
  },
  {
   "cell_type": "code",
   "execution_count": 106,
   "id": "89c423f3",
   "metadata": {},
   "outputs": [
    {
     "data": {
      "text/plain": [
       "0"
      ]
     },
     "execution_count": 106,
     "metadata": {},
     "output_type": "execute_result"
    }
   ],
   "source": [
    "next_permutation([1,2,3])"
   ]
  },
  {
   "cell_type": "code",
   "execution_count": 166,
   "id": "362be570",
   "metadata": {},
   "outputs": [],
   "source": [
    "reverse([4,5,3,2,1],2,4)"
   ]
  },
  {
   "cell_type": "markdown",
   "id": "f58ee674",
   "metadata": {},
   "source": [
    "Question 4\n",
    "Given a sorted array of distinct integers and a target value, return the index if the\n",
    "target is found. If not, return the index where it would be if it were inserted in\n",
    "order.\n",
    "\n",
    "You must write an algorithm with O(log n) runtime complexity.\n",
    "\n",
    "Example 1:\n",
    "Input: nums = [1,3,5,6], target = 5\n",
    "Output: 2"
   ]
  },
  {
   "cell_type": "code",
   "execution_count": 25,
   "id": "824633c7",
   "metadata": {},
   "outputs": [],
   "source": [
    "def search(n,t):\n",
    "    lhs = 0\n",
    "    rhs = len(n)-1\n",
    "    for i in range(len(n)):\n",
    "        while lhs<= rhs:\n",
    "            mid = (lhs + rhs) // 2\n",
    "            if n[mid] == t:\n",
    "                return mid\n",
    "            elif n[mid] < t:\n",
    "                lhs = mid + 1\n",
    "            else:\n",
    "                rhs = mid - 1\n",
    "    return lhs\n"
   ]
  },
  {
   "cell_type": "code",
   "execution_count": 26,
   "id": "7d3252de",
   "metadata": {},
   "outputs": [
    {
     "data": {
      "text/plain": [
       "6"
      ]
     },
     "execution_count": 26,
     "metadata": {},
     "output_type": "execute_result"
    }
   ],
   "source": [
    "search([-1,0,3,5,9,12],13)"
   ]
  },
  {
   "cell_type": "markdown",
   "id": "a94c8797",
   "metadata": {},
   "source": [
    "Question 5\n",
    "You are given a large integer represented as an integer array digits, where each\n",
    "digits[i] is the ith digit of the integer. The digits are ordered from most significant\n",
    "to least significant in left-to-right order. The large integer does not contain any\n",
    "leading 0's.\n",
    "\n",
    "Increment the large integer by one and return the resulting array of digits.\n",
    "\n",
    "**Example 1:**\n",
    "Input: digits = [1,2,3]\n",
    "Output: [1,2,4]\n",
    "\n",
    "**Explanation:** The array represents the integer 123.\n",
    "Incrementing by one gives 123 + 1 = 124.\n",
    "Thus, the result should be [1,2,4].\n"
   ]
  },
  {
   "cell_type": "code",
   "execution_count": 39,
   "id": "e4051bd1",
   "metadata": {},
   "outputs": [],
   "source": [
    "def addOne(n):\n",
    "    final = []\n",
    "    for i in range(len(n)-1,-1,-1):\n",
    "        n[i] += 1\n",
    "        if n[i]>9:\n",
    "            n[i] = 0\n",
    "            carry = 1\n",
    "        else:\n",
    "            carry = 0\n",
    "            break\n",
    "    if carry == 1:\n",
    "        n.insert(0,1)\n",
    "    return n\n",
    "            "
   ]
  },
  {
   "cell_type": "code",
   "execution_count": 40,
   "id": "4a93f2b3",
   "metadata": {},
   "outputs": [
    {
     "data": {
      "text/plain": [
       "[2, 3, 0]"
      ]
     },
     "execution_count": 40,
     "metadata": {},
     "output_type": "execute_result"
    }
   ],
   "source": [
    "addOne([2,2,9])"
   ]
  },
  {
   "cell_type": "markdown",
   "id": "93c1c672",
   "metadata": {},
   "source": [
    "Question 6\n",
    "Given a non-empty array of integers nums, every element appears twice except\n",
    "for one. Find that single one.\n",
    "\n",
    "You must implement a solution with a linear runtime complexity and use only\n",
    "constant extra space.\n",
    "\n",
    "Example 1:\n",
    "Input: nums = [2,2,1]\n",
    "Output: 1"
   ]
  },
  {
   "cell_type": "code",
   "execution_count": 23,
   "id": "af144874",
   "metadata": {},
   "outputs": [
    {
     "data": {
      "text/plain": [
       "1"
      ]
     },
     "execution_count": 23,
     "metadata": {},
     "output_type": "execute_result"
    }
   ],
   "source": [
    "def singleOne(n):\n",
    "    a = 0\n",
    "    for i in n:\n",
    "        #print(a)\n",
    "        a = a ^ i\n",
    "\n",
    "    return a\n",
    "\n",
    "singleOne([2,2,1])    \n",
    "        "
   ]
  },
  {
   "cell_type": "code",
   "execution_count": 24,
   "id": "e22cb010",
   "metadata": {},
   "outputs": [
    {
     "data": {
      "text/plain": [
       "1"
      ]
     },
     "execution_count": 24,
     "metadata": {},
     "output_type": "execute_result"
    }
   ],
   "source": [
    "def singleOne1(n):\n",
    "    a = n[0]\n",
    "    for i in range(1,len(n)):\n",
    "        a = a ^ n[i]\n",
    "\n",
    "    return a\n",
    "\n",
    "singleOne1([2,2,1]) "
   ]
  },
  {
   "cell_type": "code",
   "execution_count": 57,
   "id": "4210337a",
   "metadata": {},
   "outputs": [
    {
     "data": {
      "text/plain": [
       "0"
      ]
     },
     "execution_count": 57,
     "metadata": {},
     "output_type": "execute_result"
    }
   ],
   "source": [
    "def singleOne2(n):\n",
    "    p = {}\n",
    "    for i in n:\n",
    "        p[i] = p.get(i, 0) + 1\n",
    "    for i in p:\n",
    "        if p[i] == 1:\n",
    "            return i\n",
    "    return 0\n",
    "singleOne2([2,2,1,3,3,1]) "
   ]
  },
  {
   "cell_type": "markdown",
   "id": "1da1b036",
   "metadata": {},
   "source": [
    "Question 7\n",
    "You are given an inclusive range [lower, upper] and a sorted unique integer array\n",
    "nums, where all elements are within the inclusive range.\n",
    "\n",
    "A number x is considered missing if x is in the range [lower, upper] and x is not in\n",
    "nums.\n",
    "\n",
    "Return the shortest sorted list of ranges that exactly covers all the missing\n",
    "numbers. That is, no element of nums is included in any of the ranges, and each\n",
    "missing number is covered by one of the ranges.\n",
    "\n",
    "Example 1:\n",
    "Input: nums = [0,1,3,50,75], lower = 0, upper = 99\n",
    "Output: [[2,2],[4,49],[51,74],[76,99]]\n",
    "\n",
    "Explanation: The ranges are:\n",
    "[2,2]\n",
    "[4,49]\n",
    "[51,74]\n",
    "[76,99]"
   ]
  },
  {
   "cell_type": "code",
   "execution_count": 102,
   "id": "0aa78672",
   "metadata": {},
   "outputs": [
    {
     "data": {
      "text/plain": [
       "[[2, 2], [4, 49], [51, 74], [76, 99]]"
      ]
     },
     "execution_count": 102,
     "metadata": {},
     "output_type": "execute_result"
    }
   ],
   "source": [
    "def missingRange(n, lower, upper):\n",
    "    Range = []\n",
    "    Next = lower\n",
    "    n.sort()\n",
    "    if n[0]>lower:\n",
    "            Range.append([lower,n[0]-1])\n",
    "    \n",
    "    for i in range(len(n)-1):\n",
    "        \n",
    "        if n[i+1] != n[i] and n[i+1] > n[i] +1:\n",
    "            Range.append([n[i]+1, n[i+1]-1])\n",
    "        \n",
    "    if n[-1] < upper:\n",
    "        Range.append([n[-1]+1, upper])\n",
    "        \n",
    "    return Range\n",
    "\n",
    "#Input: nums = [0,1,3,50,75], lower = 0, upper = 99\n",
    "#Output: [[2,2],[4,49],[51,74],[76,99]]\n",
    "\n",
    "missingRange([0,1,3,50,75], 0, 99)"
   ]
  },
  {
   "cell_type": "code",
   "execution_count": null,
   "id": "03e761ea",
   "metadata": {},
   "outputs": [],
   "source": [
    "Question 8\n",
    "Given an array of meeting time intervals where intervals[i] = [starti, endi],\n",
    "determine if a person could attend all meetings.\n",
    "\n",
    "Example 1:\n",
    "Input: intervals = [[0,30],[5,10],[15,20]]\n",
    "Output: false"
   ]
  },
  {
   "cell_type": "code",
   "execution_count": 76,
   "id": "a6294a59",
   "metadata": {},
   "outputs": [],
   "source": [
    "def meeting(interval):\n",
    "    for i in range(1,len(interval)):\n",
    "        #compare end point of 1st meeting with starting point of 2nd meeting\n",
    "        if interval[i][0] < interval[i-1][1]:\n",
    "            #print(interval[i][0], interval[i-1][1])\n",
    "            return False\n",
    "    return True"
   ]
  },
  {
   "cell_type": "code",
   "execution_count": 77,
   "id": "de2bb70f",
   "metadata": {},
   "outputs": [
    {
     "data": {
      "text/plain": [
       "True"
      ]
     },
     "execution_count": 77,
     "metadata": {},
     "output_type": "execute_result"
    }
   ],
   "source": [
    "meeting([[0,5],[5,10],[10,20]])"
   ]
  }
 ],
 "metadata": {
  "kernelspec": {
   "display_name": "Python 3 (ipykernel)",
   "language": "python",
   "name": "python3"
  },
  "language_info": {
   "codemirror_mode": {
    "name": "ipython",
    "version": 3
   },
   "file_extension": ".py",
   "mimetype": "text/x-python",
   "name": "python",
   "nbconvert_exporter": "python",
   "pygments_lexer": "ipython3",
   "version": "3.8.16"
  }
 },
 "nbformat": 4,
 "nbformat_minor": 5
}
