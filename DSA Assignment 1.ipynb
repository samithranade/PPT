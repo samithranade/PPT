{
 "cells": [
  {
   "cell_type": "code",
   "execution_count": 43,
   "id": "d5ca84e6",
   "metadata": {},
   "outputs": [
    {
     "data": {
      "text/plain": [
       "[1, 3]"
      ]
     },
     "execution_count": 43,
     "metadata": {},
     "output_type": "execute_result"
    }
   ],
   "source": [
    "#Q1\n",
    "from typing import List\n",
    "\n",
    "def numsum(nums: List[int], target: int) -> List[int]:\n",
    "    result = []\n",
    "    number = {}\n",
    "    \n",
    "    for i, n in enumerate(nums):\n",
    "        d = target - n\n",
    "        # print(i,n,d)\n",
    "        # print(number)\n",
    "        if d in number:\n",
    "            result.append(number[d])\n",
    "            result.append(i)\n",
    "            break\n",
    "        else:\n",
    "            number[n] = i\n",
    "            # print(n,i, number[n], number)\n",
    "    return result\n",
    "    \n",
    "numsum([2,11,7,15],26)"
   ]
  },
  {
   "cell_type": "code",
   "execution_count": 45,
   "id": "59c6ace8",
   "metadata": {},
   "outputs": [],
   "source": [
    "#Q2\n",
    "def removeVal(nums: List[int], val: int) -> int:\n",
    "        count = 0\n",
    "        n,m,o = [],[],[]\n",
    "\n",
    "        for i in range(len(nums)):\n",
    "            if nums[i] != val:\n",
    "                n.append(nums[i])\n",
    "                nums[count] = nums[i]\n",
    "                count += 1\n",
    "            else:\n",
    "                m.append('*')\n",
    "        o = n + m\n",
    "        return count, o"
   ]
  },
  {
   "cell_type": "code",
   "execution_count": 57,
   "id": "b45573a8",
   "metadata": {},
   "outputs": [
    {
     "data": {
      "text/plain": [
       "(4, [2, 2, 2, 4, '*', '*'])"
      ]
     },
     "execution_count": 57,
     "metadata": {},
     "output_type": "execute_result"
    }
   ],
   "source": [
    "removeVal([3,2,2,2,3,4],3)"
   ]
  },
  {
   "cell_type": "code",
   "execution_count": 49,
   "id": "9d37f880",
   "metadata": {},
   "outputs": [],
   "source": [
    "#Q3\n",
    "\n",
    "def bin_search(nums: List[int], target: int) -> int:\n",
    "    low = 0\n",
    "    high = len(nums) - 1\n",
    "\n",
    "    while low <= high:\n",
    "        mid = (low + high) // 2\n",
    "        #print(mid,low,high)\n",
    "        if nums[mid] == target:\n",
    "            #print(nums[mid])\n",
    "            return mid\n",
    "        elif nums[mid] < target:\n",
    "            #print(nums[mid])\n",
    "            low = mid + 1\n",
    "        else:\n",
    "            high = mid - 1\n",
    "            #print(nums[mid])\n",
    "\n",
    "    return low"
   ]
  },
  {
   "cell_type": "code",
   "execution_count": 50,
   "id": "061a263e",
   "metadata": {},
   "outputs": [
    {
     "data": {
      "text/plain": [
       "14"
      ]
     },
     "execution_count": 50,
     "metadata": {},
     "output_type": "execute_result"
    }
   ],
   "source": [
    "bin_search([-2,0,2,3,4,5,7,9,10,11,23,34,45,67],68)"
   ]
  },
  {
   "cell_type": "code",
   "execution_count": 51,
   "id": "4ef2b62e",
   "metadata": {},
   "outputs": [
    {
     "data": {
      "text/plain": [
       "[1, 9, 9, 0, 0]"
      ]
     },
     "execution_count": 51,
     "metadata": {},
     "output_type": "execute_result"
    }
   ],
   "source": [
    "#Q4\n",
    "def add_one(digits):\n",
    "    for i in range(len(digits)-1,-1,-1):\n",
    "        digits[i] += 1\n",
    "        \n",
    "        if digits[i] > 9:\n",
    "            digits[i] = 0\n",
    "            carry = 1\n",
    "        \n",
    "        else:\n",
    "            carry = 0\n",
    "            break\n",
    "            \n",
    "    if carry == 1:\n",
    "        digits.insert(0,1)\n",
    "    return digits\n",
    "\n",
    "add_one([1,9,8,9,9])"
   ]
  },
  {
   "cell_type": "code",
   "execution_count": 52,
   "id": "c96dbb4b",
   "metadata": {},
   "outputs": [
    {
     "data": {
      "text/plain": [
       "True"
      ]
     },
     "execution_count": 52,
     "metadata": {},
     "output_type": "execute_result"
    }
   ],
   "source": [
    "# Q6\n",
    "def DuplicateExists(nums):\n",
    "    num_set = set()\n",
    "\n",
    "    for num in nums:\n",
    "        if num in num_set:\n",
    "            return True\n",
    "        else:\n",
    "            num_set.add(num)\n",
    "\n",
    "    return False\n",
    "    print(DuplicateExists(nums))\n",
    "    \n",
    "DuplicateExists([0,1,2,3,4,0,5])"
   ]
  },
  {
   "cell_type": "code",
   "execution_count": 53,
   "id": "a93249e4",
   "metadata": {},
   "outputs": [
    {
     "data": {
      "text/plain": [
       "False"
      ]
     },
     "execution_count": 53,
     "metadata": {},
     "output_type": "execute_result"
    }
   ],
   "source": [
    "DuplicateExists([1,0,9,2,3])"
   ]
  },
  {
   "cell_type": "code",
   "execution_count": 54,
   "id": "b552934a",
   "metadata": {},
   "outputs": [
    {
     "data": {
      "text/plain": [
       "[1, 2, 1, 3, 0, 0, 0, 0]"
      ]
     },
     "execution_count": 54,
     "metadata": {},
     "output_type": "execute_result"
    }
   ],
   "source": [
    "#Q7\n",
    "\n",
    "def Move_0s(n):\n",
    "    a = 0\n",
    "    b = 0\n",
    "    \n",
    "    while a < len(n):\n",
    "        if n[a] != 0:\n",
    "            n[a], n[b] = n[b], n[a]\n",
    "            b += 1\n",
    "        a += 1\n",
    "    for i in range(b, len(n)):\n",
    "        n[i] = 0\n",
    "        \n",
    "    return n\n",
    "    \n",
    "Move_0s([0,0,1,0,2,1,3,0])    "
   ]
  },
  {
   "cell_type": "code",
   "execution_count": null,
   "id": "c8f37521",
   "metadata": {},
   "outputs": [],
   "source": []
  }
 ],
 "metadata": {
  "kernelspec": {
   "display_name": "Python 3 (ipykernel)",
   "language": "python",
   "name": "python3"
  },
  "language_info": {
   "codemirror_mode": {
    "name": "ipython",
    "version": 3
   },
   "file_extension": ".py",
   "mimetype": "text/x-python",
   "name": "python",
   "nbconvert_exporter": "python",
   "pygments_lexer": "ipython3",
   "version": "3.8.16"
  }
 },
 "nbformat": 4,
 "nbformat_minor": 5
}
