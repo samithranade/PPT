{
 "cells": [
  {
   "cell_type": "code",
   "execution_count": 25,
   "id": "0b05fe09",
   "metadata": {},
   "outputs": [],
   "source": [
    "# Question 1       Given two strings s and t, determine if they are isomorphic.\n",
    "\"\"\"Two strings s and t are isomorphic if the characters in s can be replaced to get t.\n",
    "\n",
    "All occurrences of a character must be replaced with another character while preserving the order of characters. No two characters may map to the same character, but a character may map to itself.\n",
    "\n",
    "**Example 1:**\n",
    "\n",
    "**Input:** s = \"egg\", t = \"add\"\n",
    "\n",
    "**Output:** true\"\"\"\n",
    "\n",
    "def Isomorphic(s, t):\n",
    "    #Corner case\n",
    "    if len(s) != len(t):\n",
    "        return False\n",
    "    count = dict()\n",
    "    temp = 0\n",
    "    for i in range(len(s)):\n",
    "        #print(count)\n",
    "        if s[i] in count:\n",
    "            temp = count[s[i]]\n",
    "            #print(s[i],count, 't', t[i])\n",
    "            if temp != t[i]:\n",
    "                return False\n",
    "        elif t[i] not in count.values():\n",
    "            count[s[i]] = t[i]\n",
    "            #print(count)\n",
    "        else:\n",
    "            return False\n",
    "    return True\n"
   ]
  },
  {
   "cell_type": "code",
   "execution_count": 26,
   "id": "8221afb7",
   "metadata": {},
   "outputs": [
    {
     "data": {
      "text/plain": [
       "True"
      ]
     },
     "execution_count": 26,
     "metadata": {},
     "output_type": "execute_result"
    }
   ],
   "source": [
    "s = \"egg\"\n",
    "t = \"auu\"\n",
    "Isomorphic(s,t)"
   ]
  },
  {
   "cell_type": "code",
   "execution_count": null,
   "id": "d8997264",
   "metadata": {},
   "outputs": [],
   "source": [
    "\n",
    "💡 **Question 2**\n",
    "\n",
    "Given a string num which represents an integer, return true *if* num *is a **strobogrammatic number***.\n",
    "\n",
    "A **strobogrammatic number** is a number that looks the same when rotated 180 degrees (looked at upside down).\n",
    "\n",
    "**Example 1:**\n",
    "\n",
    "**Input:** num = \"69\"\n",
    "\n",
    "**Output:**\n",
    "\n",
    "true"
   ]
  },
  {
   "cell_type": "code",
   "execution_count": 69,
   "id": "625d52ca",
   "metadata": {},
   "outputs": [],
   "source": [
    "def isStrobogrammatic(num):\n",
    "    strobogrammatic = {'0':'0','1':'1','6':'9','8': '8', '9':'6'}\n",
    "    l, r = 0, len(num)-1\n",
    "    while l<r:\n",
    "        print('l', num[l], 'r', num[r])\n",
    "        if num[l] not in strobogrammatic or num[r] not in  strobogrammatic:\n",
    "            return False\n",
    "        l = l+1\n",
    "        r -= 1\n",
    "    return True"
   ]
  },
  {
   "cell_type": "code",
   "execution_count": 78,
   "id": "ae757b7e",
   "metadata": {},
   "outputs": [],
   "source": [
    "num = \"1111\""
   ]
  },
  {
   "cell_type": "code",
   "execution_count": 79,
   "id": "1b95d99b",
   "metadata": {},
   "outputs": [
    {
     "name": "stdout",
     "output_type": "stream",
     "text": [
      "l 1 r 1\n",
      "l 1 r 1\n"
     ]
    },
    {
     "data": {
      "text/plain": [
       "True"
      ]
     },
     "execution_count": 79,
     "metadata": {},
     "output_type": "execute_result"
    }
   ],
   "source": [
    "isStrobogrammatic(num)"
   ]
  },
  {
   "cell_type": "markdown",
   "id": "fd9c3161",
   "metadata": {},
   "source": [
    "Question 3\n",
    "\n",
    "Given two non-negative integers, num1 and num2 represented as string, return *the sum of* num1 *and* num2 *as a string*.\n",
    "\n",
    "You must solve the problem without using any built-in library for handling large integers (such as BigInteger). You must also not convert the inputs to integers directly.\n",
    "\n",
    "**Example 1:**\n",
    "\n",
    "**Input:** num1 = \"11\", num2 = \"123\"\n",
    "\n",
    "**Output:**\n",
    "\n",
    "\"134\""
   ]
  },
  {
   "cell_type": "code",
   "execution_count": 89,
   "id": "d77b7ad2",
   "metadata": {},
   "outputs": [
    {
     "name": "stdout",
     "output_type": "stream",
     "text": [
      "2 1 0\n",
      "4 6\n",
      "10\n",
      "1 0 1\n",
      "4 2\n",
      "7\n",
      "0 -1 0\n",
      "1 0\n",
      "1\n",
      "['0', '7', '1']\n"
     ]
    },
    {
     "data": {
      "text/plain": [
       "'170'"
      ]
     },
     "execution_count": 89,
     "metadata": {},
     "output_type": "execute_result"
    }
   ],
   "source": [
    "def addStrings(num1, num2):\n",
    "    i, j = len(num1) - 1, len(num2) - 1\n",
    "    carry = 0\n",
    "    result = []\n",
    "\n",
    "    while i >= 0 or j >= 0 or carry != 0:\n",
    "        print(i, j, carry)\n",
    "        digit1 = int(num1[i]) if i >= 0 else 0\n",
    "        digit2 = int(num2[j]) if j >= 0 else 0\n",
    "        print(digit1, digit2)\n",
    "        summation = digit1 + digit2 + carry\n",
    "        print(summation)\n",
    "        result.append(str(summation % 10))\n",
    "        carry = summation // 10\n",
    "        i -= 1\n",
    "        j -= 1\n",
    "    print(result)\n",
    "    return ''.join(result[::-1])\n",
    "addStrings('144', '26')"
   ]
  },
  {
   "cell_type": "markdown",
   "id": "633b6e1f",
   "metadata": {},
   "source": [
    "Question 4\n",
    "\n",
    "Given a string s, reverse the order of characters in each word within a sentence while still preserving whitespace and initial word order.\n",
    "\n",
    "**Example 1:**\n",
    "\n",
    "**Input:** s = \"Let's take LeetCode contest\"\n",
    "\n",
    "**Output:** \"s'teL ekat edoCteeL tsetnoc\""
   ]
  },
  {
   "cell_type": "code",
   "execution_count": 136,
   "id": "1f797cd6",
   "metadata": {},
   "outputs": [],
   "source": [
    "def revChars(s):\n",
    "    word = s.split()\n",
    "    rev = ''\n",
    "    output = []\n",
    "    for i in word:\n",
    "        #print(i)\n",
    "        for j in range(len(i)-1,-1,-1):\n",
    "            rev += i[j]\n",
    "        output.append(rev)\n",
    "        rev = ''\n",
    "    return ' '.join(output)"
   ]
  },
  {
   "cell_type": "code",
   "execution_count": 137,
   "id": "3709dbee",
   "metadata": {},
   "outputs": [
    {
     "data": {
      "text/plain": [
       "\"s'teL ekat edoCteeL tsetnoc\""
      ]
     },
     "execution_count": 137,
     "metadata": {},
     "output_type": "execute_result"
    }
   ],
   "source": [
    "revChars(\"Let's take LeetCode contest\")"
   ]
  },
  {
   "cell_type": "code",
   "execution_count": 147,
   "id": "2ab9a18f",
   "metadata": {},
   "outputs": [],
   "source": [
    "def revChars1(s):\n",
    "    words = s.split()\n",
    "    reverse = [word[::-1] for word in words]\n",
    "    return ' '.join(reverse)"
   ]
  },
  {
   "cell_type": "code",
   "execution_count": 148,
   "id": "81a5b9ee",
   "metadata": {},
   "outputs": [
    {
     "data": {
      "text/plain": [
       "\"s'teL ekat edoCteeL tsetnoc\""
      ]
     },
     "execution_count": 148,
     "metadata": {},
     "output_type": "execute_result"
    }
   ],
   "source": [
    "revChars1(\" Let's take LeetCode contest \")"
   ]
  },
  {
   "cell_type": "markdown",
   "id": "490ac494",
   "metadata": {},
   "source": [
    "Question 5\n",
    "\n",
    "Given a string s and an integer k, reverse the first k characters for every 2k characters counting from the start of the string.\n",
    "\n",
    "If there are fewer than k characters left, reverse all of them. If there are less than 2k but greater than or equal to k characters, then reverse the first k characters and leave the other as original.\n",
    "\n",
    "**Example 1:**\n",
    "\n",
    "**Input:** s = \"abcdefg\", k = 2\n",
    "\n",
    "**Output:**\n",
    "\n",
    "\"bacdfeg\""
   ]
  },
  {
   "cell_type": "code",
   "execution_count": 269,
   "id": "d4942bee",
   "metadata": {},
   "outputs": [],
   "source": [
    "def rev1stK(s, k):\n",
    "    i = 0\n",
    "    while i < len(s):\n",
    "        if len(s)<k:\n",
    "            l = list(s)\n",
    "            l.reverse()\n",
    "            return ''.join(l)\n",
    "       # if len(s)>=k and len(s)< 2*k:\n",
    "        #    s = s[k-1::-1]+s[k:]\n",
    "            \n",
    "        if (i + k) > len(s):\n",
    "            break\n",
    "        rev = s[i:i + k] \n",
    "        #print(rev)\n",
    "        s = s[:i]+rev[::-1]+s[i + k:]\n",
    "        #print(s)\n",
    "        i += 2 * k\n",
    "        #print(i)\n",
    "    return s"
   ]
  },
  {
   "cell_type": "code",
   "execution_count": 270,
   "id": "4fda25e3",
   "metadata": {},
   "outputs": [
    {
     "data": {
      "text/plain": [
       "'hgfedcbaijklmnopxwvutsrqyz'"
      ]
     },
     "execution_count": 270,
     "metadata": {},
     "output_type": "execute_result"
    }
   ],
   "source": [
    "s = 'abcdefghijklmnopqrstuvwxyz'\n",
    "k = 8\n",
    "rev1stK(s,k)"
   ]
  },
  {
   "cell_type": "markdown",
   "id": "450fbb80",
   "metadata": {},
   "source": [
    "Given two strings s and goal, return true if and only if s can become goal after some number of shifts on s."
   ]
  },
  {
   "cell_type": "markdown",
   "id": "fde376d7",
   "metadata": {},
   "source": [
    "Q6\n",
    "\n",
    "Given two strings s and goal, return true if and only if s can become goal after some number of shifts on s.\n",
    "\n",
    "A shift on s consists of moving the leftmost character of s to the rightmost position.\n",
    "\n",
    "- For example, if s = \"abcde\", then it will be \"bcdea\" after one shift.\n",
    "\n",
    "**Example 1:**\n",
    "\n",
    "**Input:** s = \"abcde\", goal = \"cdeab\"\n",
    "\n",
    "**Output:**\n",
    "\n",
    "true"
   ]
  },
  {
   "cell_type": "code",
   "execution_count": 278,
   "id": "39b7912b",
   "metadata": {},
   "outputs": [],
   "source": [
    "def leftShift(s, goal):\n",
    "    if len(s) != len(goal):\n",
    "        return False\n",
    "    \n",
    "    string = s+s\n",
    "    print(string)\n",
    "    if goal in string:\n",
    "        return True\n",
    "    return False"
   ]
  },
  {
   "cell_type": "code",
   "execution_count": 283,
   "id": "a9bb8800",
   "metadata": {},
   "outputs": [
    {
     "data": {
      "text/plain": [
       "False"
      ]
     },
     "execution_count": 283,
     "metadata": {},
     "output_type": "execute_result"
    }
   ],
   "source": [
    "s = \"abcdef\"\n",
    "goal = \"cdeaf\"\n",
    "leftShift(s, goal)"
   ]
  },
  {
   "cell_type": "markdown",
   "id": "3fc286b2",
   "metadata": {},
   "source": [
    "Q7 \n",
    "\n",
    "Given two strings s and t, return true if they are equal when both are typed into empty text editors. '#' means a backspace character.\n",
    "\n",
    "Note that after backspacing an empty text, the text will continue empty.\n",
    "\n",
    "**Example 1:**\n",
    "\n",
    "**Input:** s = \"ab#c\", t = \"ad#c\"\n",
    "\n",
    "**Output:** true\n",
    "\n",
    "**Explanation:**\n",
    "\n",
    "Both s and t become \"ac\"."
   ]
  },
  {
   "cell_type": "code",
   "execution_count": 307,
   "id": "3bf34981",
   "metadata": {},
   "outputs": [],
   "source": [
    "def backspace(a):\n",
    "    res = []\n",
    "    \"\"\"if len(s) != len(t):\n",
    "        return False\"\"\"\n",
    "    for i in a:\n",
    "        if i == '#':\n",
    "            if res:\n",
    "                #print(res)\n",
    "                res.pop()\n",
    "                #print(res)\n",
    "        else:\n",
    "            res.append(i)\n",
    "            print(res)\n",
    "    return res"
   ]
  },
  {
   "cell_type": "code",
   "execution_count": 322,
   "id": "9e4579c2",
   "metadata": {},
   "outputs": [],
   "source": [
    "def comp_backspace(s, t):\n",
    "    if len(s) != len(t):\n",
    "        return False\n",
    "    if backspace(s) != backspace(t):\n",
    "        return False\n",
    "    return True"
   ]
  },
  {
   "cell_type": "code",
   "execution_count": null,
   "id": "1c3e3c7b",
   "metadata": {},
   "outputs": [],
   "source": []
  },
  {
   "cell_type": "markdown",
   "id": "56bbdd2e",
   "metadata": {},
   "source": [
    "Question 8\n",
    "\n",
    "You are given an array coordinates, coordinates[i] = [x, y], where [x, y] represents the coordinate of a point. Check if these points make a straight line in the XY plane.\n",
    "\n",
    "**Input:** coordinates = [[1,2],[2,3],[3,4],[4,5],[5,6],[6,7]]\n",
    "\n",
    "**Output:** true"
   ]
  },
  {
   "cell_type": "code",
   "execution_count": 372,
   "id": "07bfc104",
   "metadata": {},
   "outputs": [],
   "source": [
    "def collinear(coord):\n",
    "    (x, y) = coord[0]\n",
    "    (x2,y2) = coord[1]\n",
    "    \n",
    "    slope = (y2- y)/(x2 -x)\n",
    "    \n",
    "    for i in range(2,len(coord)):\n",
    "        (x3,y3) = coord[i]\n",
    "        curr_slope = (y3-y)/(x3-x)\n",
    "        print(x3,y3)\n",
    "        \n",
    "        if curr_slope != slope:\n",
    "            return False\n",
    "    return True\n",
    "            "
   ]
  },
  {
   "cell_type": "code",
   "execution_count": 379,
   "id": "b3b9526c",
   "metadata": {},
   "outputs": [],
   "source": [
    "coord = [[1,1],[2,1],[3,1],[4,1],[5,1],[6,1]]"
   ]
  },
  {
   "cell_type": "code",
   "execution_count": 380,
   "id": "c0f737c3",
   "metadata": {},
   "outputs": [
    {
     "name": "stdout",
     "output_type": "stream",
     "text": [
      "3 1\n",
      "4 1\n",
      "5 1\n",
      "6 1\n"
     ]
    },
    {
     "data": {
      "text/plain": [
       "True"
      ]
     },
     "execution_count": 380,
     "metadata": {},
     "output_type": "execute_result"
    }
   ],
   "source": [
    "collinear(coord)"
   ]
  },
  {
   "cell_type": "code",
   "execution_count": null,
   "id": "ea924b08",
   "metadata": {},
   "outputs": [],
   "source": []
  }
 ],
 "metadata": {
  "kernelspec": {
   "display_name": "Python 3 (ipykernel)",
   "language": "python",
   "name": "python3"
  },
  "language_info": {
   "codemirror_mode": {
    "name": "ipython",
    "version": 3
   },
   "file_extension": ".py",
   "mimetype": "text/x-python",
   "name": "python",
   "nbconvert_exporter": "python",
   "pygments_lexer": "ipython3",
   "version": "3.8.16"
  }
 },
 "nbformat": 4,
 "nbformat_minor": 5
}
