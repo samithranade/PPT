{
 "cells": [
  {
   "cell_type": "markdown",
   "id": "f48b5c9f",
   "metadata": {},
   "source": [
    "Question 1\n",
    "Given an integer array nums of 2n integers, group these integers into n pairs (a1, b1), (a2, b2),..., (an, bn) such that the sum of min(ai, bi) for all i is maximized. Return the maximized sum.\n",
    "\n",
    "**Example 1:**\n",
    "Input: nums = [1,4,3,2]\n",
    "Output: 4\n",
    "\n",
    "**Explanation:** All possible pairings (ignoring the ordering of elements) are:\n",
    "\n",
    "1. (1, 4), (2, 3) -> min(1, 4) + min(2, 3) = 1 + 2 = 3\n",
    "2. (1, 3), (2, 4) -> min(1, 3) + min(2, 4) = 1 + 2 = 3\n",
    "3. (1, 2), (3, 4) -> min(1, 2) + min(3, 4) = 1 + 3 = 4\n",
    "So the maximum possible sum is 4"
   ]
  },
  {
   "cell_type": "code",
   "execution_count": 424,
   "id": "b3746c31",
   "metadata": {},
   "outputs": [],
   "source": [
    "def maximize_min_sum(nums):\n",
    "    nums.sort()\n",
    "    max_sum = 0\n",
    "\n",
    "    for i in range(0, len(nums), 2):\n",
    "        max_sum += nums[i]\n",
    "\n",
    "    return max_sum"
   ]
  },
  {
   "cell_type": "code",
   "execution_count": 425,
   "id": "fc3d34b3",
   "metadata": {},
   "outputs": [
    {
     "data": {
      "text/plain": [
       "9"
      ]
     },
     "execution_count": 425,
     "metadata": {},
     "output_type": "execute_result"
    }
   ],
   "source": [
    "nums = [1,4,3,2,5,6]\n",
    "maximize_min_sum(nums)"
   ]
  },
  {
   "cell_type": "markdown",
   "id": "1dca3893",
   "metadata": {},
   "source": [
    "Question 2\n",
    "Alice has n candies, where the ith candy is of type candyType[i]. Alice noticed that she started to gain weight, so she visited a doctor. \n",
    "\n",
    "The doctor advised Alice to only eat n / 2 of the candies she has (n is always even). Alice likes her candies very much, and she wants to eat the maximum number of different types of candies while still following the doctor's advice. \n",
    "\n",
    "Given the integer array candyType of length n, return the maximum number of different types of candies she can eat if she only eats n / 2 of them.\n",
    "\n",
    "Example 1:\n",
    "Input: candyType = [1,1,2,2,3,3]\n",
    "Output: 3\n",
    "\n",
    "Explanation: Alice can only eat 6 / 2 = 3 candies. Since there are only 3 types, she can eat one of each type."
   ]
  },
  {
   "cell_type": "code",
   "execution_count": 195,
   "id": "6611fd65",
   "metadata": {},
   "outputs": [],
   "source": [
    "def candy_advice(candyType):\n",
    "    unique_candies = len(set(candyType))\n",
    "    advice = len(candyType)//2\n",
    "    print(unique_candies, advice)\n",
    "    max_candy_intake = min(unique_candies,advice)\n",
    "    return max_candy_intake"
   ]
  },
  {
   "cell_type": "code",
   "execution_count": 196,
   "id": "497258e2",
   "metadata": {},
   "outputs": [
    {
     "name": "stdout",
     "output_type": "stream",
     "text": [
      "2 4\n"
     ]
    },
    {
     "data": {
      "text/plain": [
       "2"
      ]
     },
     "execution_count": 196,
     "metadata": {},
     "output_type": "execute_result"
    }
   ],
   "source": [
    "candy_advice([1, 1, 1, 1, 2, 2, 2, 2])"
   ]
  },
  {
   "cell_type": "markdown",
   "id": "3fe69333",
   "metadata": {},
   "source": [
    "Question 3\n",
    "We define a harmonious array as an array where the difference between its maximum value\n",
    "and its minimum value is exactly 1.\n",
    "\n",
    "Given an integer array nums, return the length of its longest harmonious subsequence\n",
    "among all its possible subsequences.\n",
    "\n",
    "A subsequence of an array is a sequence that can be derived from the array by deleting some or no elements without changing the order of the remaining elements.\n",
    "\n",
    "Example 1:\n",
    "Input: nums = [1,3,2,2,5,2,3,7]\n",
    "Output: 5"
   ]
  },
  {
   "cell_type": "code",
   "execution_count": 427,
   "id": "e7c70987",
   "metadata": {},
   "outputs": [
    {
     "data": {
      "text/plain": [
       "(5, [3, 2, 2, 2, 3])"
      ]
     },
     "execution_count": 427,
     "metadata": {},
     "output_type": "execute_result"
    }
   ],
   "source": [
    "def harmonious(num):\n",
    "    num_count = {}\n",
    "    length = 0\n",
    "    max_len, Array, result = [],[],[]\n",
    "\n",
    "    for i in num:\n",
    "        num_count[i] = num_count.get(i, 0) + 1\n",
    "        \n",
    "    #return num_count\n",
    "    for i in num_count:\n",
    "        if (i+1) in num_count:\n",
    "            length = num_count[i] + num_count[i+1]\n",
    "            \n",
    "            max_len.append(length)\n",
    "            if num_count[i] + num_count[1+i] > len(result):\n",
    "                result = [i, i+1] * min(num_count[i],num_count[i+1])\n",
    "    for i in num:\n",
    "        if i == result[0] or i == result[1]:\n",
    "            Array.append(i)\n",
    "            \n",
    "    return max(max_len), Array   \n",
    "harmonious([1,3,2,2,5,2,3,7])"
   ]
  },
  {
   "cell_type": "code",
   "execution_count": 428,
   "id": "0750519d",
   "metadata": {},
   "outputs": [
    {
     "data": {
      "text/plain": [
       "(11, [4, 4, 5, 5, 5, 5, 4, 5, 5, 4, 5])"
      ]
     },
     "execution_count": 428,
     "metadata": {},
     "output_type": "execute_result"
    }
   ],
   "source": [
    "harmonious([1,2,2,4,4,5,5,5,5,6,4,5,5,4,5])"
   ]
  },
  {
   "cell_type": "markdown",
   "id": "7c29fc9e",
   "metadata": {},
   "source": [
    "#Question 4 -You have a long flowerbed in which some of the plots are planted, and some are not.\n",
    "However, flowers cannot be planted in adjacent plots.\n",
    "Given an integer array flowerbed containing 0's and 1's, where 0 means empty and 1 means not empty, and an integer n, return true if n new flowers can be planted in the flowerbed without violating the no-adjacent-flowers rule and false otherwise.\n",
    "Example 1:\n",
    "Input: flowerbed = [1,0,0,0,1], n = 1\n",
    "Output: true"
   ]
  },
  {
   "cell_type": "code",
   "execution_count": 431,
   "id": "caccf00e",
   "metadata": {},
   "outputs": [],
   "source": [
    "def alternateplot(num,n):\n",
    "    plot_planted = 0\n",
    "    for i in range(len(num)):\n",
    "        if num[i] == 0 and (i == 0 or num[i-1] == 0) and ( i == len(num)-1 or num[i+1] == 0) :\n",
    "            num[i] = 1\n",
    "            #print(len(num)-1, num[i], num[i - 1], num[i+1])\n",
    "            plot_planted += 1\n",
    "            print(num)\n",
    "    return plot_planted >= n\n",
    "    "
   ]
  },
  {
   "cell_type": "code",
   "execution_count": 432,
   "id": "59593d79",
   "metadata": {},
   "outputs": [
    {
     "name": "stdout",
     "output_type": "stream",
     "text": [
      "[0, 1, 0, 1, 0, 0, 0, 1, 1, 0]\n",
      "[0, 1, 0, 1, 0, 1, 0, 1, 1, 0]\n"
     ]
    },
    {
     "data": {
      "text/plain": [
       "False"
      ]
     },
     "execution_count": 432,
     "metadata": {},
     "output_type": "execute_result"
    }
   ],
   "source": [
    "alternateplot([0,1,0,0,0,0,0,1,1,0],3)"
   ]
  },
  {
   "cell_type": "markdown",
   "id": "e8f68ffd",
   "metadata": {},
   "source": [
    "Question 5\n",
    "Given an integer array nums, find three numbers whose product is maximum and return the maximum product.\n",
    "\n",
    "Example 1:\n",
    "Input: nums = [1,2,3]\n",
    "Output: 6"
   ]
  },
  {
   "cell_type": "code",
   "execution_count": 258,
   "id": "982c2f9a",
   "metadata": {},
   "outputs": [],
   "source": [
    "def maxdot3(num):\n",
    "    product = 1\n",
    "    num.sort(reverse = True)\n",
    "    product = num[0]*num[1]*num[2]\n",
    "    return product    \n",
    "        "
   ]
  },
  {
   "cell_type": "code",
   "execution_count": 261,
   "id": "6b03a604",
   "metadata": {},
   "outputs": [
    {
     "data": {
      "text/plain": [
       "11000"
      ]
     },
     "execution_count": 261,
     "metadata": {},
     "output_type": "execute_result"
    }
   ],
   "source": [
    "maxdot3([1,2,3,4,5,6,9,100,11,10])"
   ]
  },
  {
   "cell_type": "markdown",
   "id": "ca19f877",
   "metadata": {},
   "source": [
    "Question 6\n",
    "Given an array of integers nums which is sorted in ascending order, and an integer target,\n",
    "write a function to search target in nums. If target exists, then return its index. Otherwise,\n",
    "return -1.\n",
    "\n",
    "You must write an algorithm with O(log n) runtime complexity.\n",
    "\n",
    "Input: nums = [-1,0,3,5,9,12], target = 9\n",
    "Output: 4"
   ]
  },
  {
   "cell_type": "code",
   "execution_count": 433,
   "id": "8483697c",
   "metadata": {},
   "outputs": [],
   "source": [
    "def searchTarget(num, t):\n",
    "    lhs = 0\n",
    "    rhs = len(num)-1\n",
    "    while lhs <= rhs:\n",
    "        mid = (lhs + rhs) // 2\n",
    "        \n",
    "        if num[mid] == t:\n",
    "            return mid\n",
    "        elif num[mid] < t:\n",
    "            lhs = mid + 1\n",
    "        else:\n",
    "            rhs = mid -1\n",
    "    return -1"
   ]
  },
  {
   "cell_type": "code",
   "execution_count": 435,
   "id": "f111917f",
   "metadata": {},
   "outputs": [
    {
     "data": {
      "text/plain": [
       "4"
      ]
     },
     "execution_count": 435,
     "metadata": {},
     "output_type": "execute_result"
    }
   ],
   "source": [
    "searchTarget([-1,0,3,5,9,12],9)"
   ]
  },
  {
   "cell_type": "markdown",
   "id": "43142ff5",
   "metadata": {},
   "source": [
    "Question 7\n",
    "An array is monotonic if it is either monotone increasing or monotone decreasing.\n",
    "\n",
    "An array nums is monotone increasing if for all i <= j, nums[i] <= nums[j]. An array nums is\n",
    "monotone decreasing if for all i <= j, nums[i] >= nums[j].\n",
    "\n",
    "Given an integer array nums, return true if the given array is monotonic, or false otherwise.\n",
    "\n",
    "Example 1:\n",
    "Input: nums = [1,2,2,3]\n",
    "Output: true"
   ]
  },
  {
   "cell_type": "code",
   "execution_count": 330,
   "id": "b4944977",
   "metadata": {},
   "outputs": [],
   "source": [
    "def monotone(num):\n",
    "    monotone_inc = True\n",
    "    monotone_dec = True\n",
    "    for i in range(1, len(num)):\n",
    "        if num[i] < num [i-1]:\n",
    "            monotone_inc = False\n",
    "        if num[i] > num[i-1]:\n",
    "            monotone_dec = False \n",
    "        if monotone_inc == False and monotone_dec == False:\n",
    "            return False\n",
    "    return True"
   ]
  },
  {
   "cell_type": "code",
   "execution_count": 331,
   "id": "c0283277",
   "metadata": {},
   "outputs": [
    {
     "data": {
      "text/plain": [
       "True"
      ]
     },
     "execution_count": 331,
     "metadata": {},
     "output_type": "execute_result"
    }
   ],
   "source": [
    "monotone([1, 2, 2, 4, 5])"
   ]
  },
  {
   "cell_type": "markdown",
   "id": "ea10f959",
   "metadata": {},
   "source": [
    "Question 8\n",
    "You are given an integer array nums and an integer k.\n",
    "\n",
    "In one operation, you can choose any index i where 0 <= i < nums.length and change nums[i] to nums[i] + x where x is an integer from the range [-k, k]. You can apply this operation at most once for each index i.\n",
    "\n",
    "The score of nums is the difference between the maximum and minimum elements in nums.\n",
    "\n",
    "Return the minimum score of nums after applying the mentioned operation at most once for each index in it.\n",
    "\n",
    "Example 1:\n",
    "Input: nums = [1], k = 0\n",
    "Output: 0\n",
    "\n",
    "Explanation: The score is max(nums) - min(nums) = 1 - 1 = 0."
   ]
  },
  {
   "cell_type": "code",
   "execution_count": 416,
   "id": "6d75f47f",
   "metadata": {},
   "outputs": [],
   "source": [
    "def minScore(num, k):\n",
    "    num_update = []\n",
    "    score = 0\n",
    "    for i in range(len(num)):\n",
    "        for j in range(-k, k+1):\n",
    "            num_update.append(num[i] + j) #change nums[i] to nums[i] + x where x is an integer from the range [-k, k]\n",
    "    \n",
    "    score = max(num_update) - min(num_update)\n",
    "    print('Changed Numbers', num_update)\n",
    "    return score"
   ]
  },
  {
   "cell_type": "code",
   "execution_count": 421,
   "id": "ab213c7a",
   "metadata": {},
   "outputs": [
    {
     "name": "stdout",
     "output_type": "stream",
     "text": [
      "Changed Numbers [1]\n"
     ]
    },
    {
     "data": {
      "text/plain": [
       "0"
      ]
     },
     "execution_count": 421,
     "metadata": {},
     "output_type": "execute_result"
    }
   ],
   "source": [
    "minScore([1],0)"
   ]
  },
  {
   "cell_type": "code",
   "execution_count": 422,
   "id": "082e88f3",
   "metadata": {},
   "outputs": [],
   "source": [
    "def minScore1(num, k):\n",
    "    score = max(num) - min(num)\n",
    "    if score == 0:\n",
    "        return 0\n",
    "    min_probable = min(num) + k\n",
    "    max_probable = max(num) - k\n",
    "    print(max_probable, min_probable)\n",
    "    if max_probable<min_probable:\n",
    "        return 0\n",
    "    return max_probable - min_probable"
   ]
  },
  {
   "cell_type": "code",
   "execution_count": 423,
   "id": "fb5c827b",
   "metadata": {},
   "outputs": [
    {
     "data": {
      "text/plain": [
       "0"
      ]
     },
     "execution_count": 423,
     "metadata": {},
     "output_type": "execute_result"
    }
   ],
   "source": [
    "minScore1([1],0)"
   ]
  },
  {
   "cell_type": "code",
   "execution_count": null,
   "id": "8208ba4b",
   "metadata": {},
   "outputs": [],
   "source": []
  }
 ],
 "metadata": {
  "kernelspec": {
   "display_name": "Python 3 (ipykernel)",
   "language": "python",
   "name": "python3"
  },
  "language_info": {
   "codemirror_mode": {
    "name": "ipython",
    "version": 3
   },
   "file_extension": ".py",
   "mimetype": "text/x-python",
   "name": "python",
   "nbconvert_exporter": "python",
   "pygments_lexer": "ipython3",
   "version": "3.8.16"
  }
 },
 "nbformat": 4,
 "nbformat_minor": 5
}
